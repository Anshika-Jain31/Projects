{
 "cells": [
  {
   "cell_type": "code",
   "execution_count": 1,
   "id": "9f1ebc30",
   "metadata": {},
   "outputs": [],
   "source": [
    "import openai\n",
    "from openai import OpenAI #OpenAI --create a client object to communicate with OpenAI's API in the newer SDK\n",
    "import os\n",
    "import json\n",
    "from dotenv import load_dotenv"
   ]
  },
  {
   "cell_type": "code",
   "execution_count": 2,
   "id": "148a499f-74cc-470b-9f76-4e2d8f444000",
   "metadata": {},
   "outputs": [],
   "source": [
    "# Load .env and API key\n",
    "load_dotenv(\"env\")\n",
    "api_key = os.getenv(\"OPENAI_API_KEY\")"
   ]
  },
  {
   "cell_type": "code",
   "execution_count": 3,
   "id": "5c6f9096-22e0-4746-9e2e-12934d8ad758",
   "metadata": {},
   "outputs": [],
   "source": [
    "# Initialize OpenAI client (✅ REQUIRED in new SDK)\n",
    "client = OpenAI(api_key=api_key)"
   ]
  },
  {
   "cell_type": "code",
   "execution_count": 4,
   "id": "e15bd3a4-5aab-4da3-8838-57e7308f0624",
   "metadata": {},
   "outputs": [],
   "source": [
    "# File to store chat memory\n",
    "HISTORY_FILE = \"chat_history.json\""
   ]
  },
  {
   "cell_type": "code",
   "execution_count": 5,
   "id": "f88ea803-97fb-41fd-96a2-5dc53795c260",
   "metadata": {},
   "outputs": [],
   "source": [
    "# Load previous messages (if any)\n",
    "def load_history():\n",
    "    if os.path.exists(HISTORY_FILE):\n",
    "        with open(HISTORY_FILE, \"r\") as f:\n",
    "            return json.load(f)\n",
    "    else:\n",
    "        return [{\"role\": \"system\", \"content\": \"You are a helpful assistant.\"}]  # starting context"
   ]
  },
  {
   "cell_type": "code",
   "execution_count": 6,
   "id": "bb8855f2-f4b1-43c5-9cbd-c0c9d2af4aff",
   "metadata": {},
   "outputs": [],
   "source": [
    "# Save messages to history\n",
    "def save_history(messages):\n",
    "    with open(HISTORY_FILE, \"w\") as f:\n",
    "        json.dump(messages, f, indent=4)"
   ]
  },
  {
   "cell_type": "code",
   "execution_count": 7,
   "id": "19e05125",
   "metadata": {},
   "outputs": [],
   "source": [
    "# Define function to chat with AI\n",
    "def chat_with_ai(user_input, messages):\n",
    "    messages.append({\"role\": \"user\", \"content\": user_input})\n",
    "    response = client.chat.completions.create(\n",
    "        model=\"gpt-3.5-turbo\",  \n",
    "        messages=messages,\n",
    "        temperature=1.0,     # <--- Controls randomness\n",
    "        max_tokens=100       # <--- Limits the length of the response\n",
    "    )\n",
    "    reply = response.choices[0].message.content\n",
    "    messages.append({\"role\": \"assistant\", \"content\": reply})\n",
    "    save_history(messages)  # Save updated chat\n",
    "    return reply"
   ]
  },
  {
   "cell_type": "code",
   "execution_count": 8,
   "id": "3dd24943",
   "metadata": {},
   "outputs": [
    {
     "name": "stdout",
     "output_type": "stream",
     "text": [
      "Hi! I’m your virtual assistant. Ask me anything!\n",
      "Type 'bye' or 'exit' to end the chat.\n"
     ]
    }
   ],
   "source": [
    "# Main loop\n",
    "messages = load_history()\n",
    "\n",
    "print(\"Hi! I’m your virtual assistant. Ask me anything!\")\n",
    "print(\"Type 'bye' or 'exit' to end the chat.\")"
   ]
  },
  {
   "cell_type": "code",
   "execution_count": 9,
   "id": "18751be7",
   "metadata": {},
   "outputs": [
    {
     "name": "stdin",
     "output_type": "stream",
     "text": [
      "You:  hii\n"
     ]
    },
    {
     "name": "stdout",
     "output_type": "stream",
     "text": [
      "AI: Hello again! How can I assist you today?\n"
     ]
    },
    {
     "name": "stdin",
     "output_type": "stream",
     "text": [
      "You:  how are you?\n"
     ]
    },
    {
     "name": "stdout",
     "output_type": "stream",
     "text": [
      "AI: I'm here and ready to help you! How can I assist you today?\n"
     ]
    },
    {
     "name": "stdin",
     "output_type": "stream",
     "text": [
      "You:  tell me about the topics i discussed earlier\n"
     ]
    },
    {
     "name": "stdout",
     "output_type": "stream",
     "text": [
      "AI: Earlier, we discussed artificial intelligence (AI). AI is a branch of computer science that involves creating systems and machines capable of performing tasks that typically require human intelligence, such as problem-solving, learning, and decision-making. AI technologies include machine learning, natural language processing, computer vision, and robotics. If you have any specific questions or need more information on AI or any other topic, feel free to ask!\n"
     ]
    },
    {
     "name": "stdin",
     "output_type": "stream",
     "text": [
      "You:  bye\n"
     ]
    },
    {
     "name": "stdout",
     "output_type": "stream",
     "text": [
      "Take care! Your assistant is signing off.\n"
     ]
    }
   ],
   "source": [
    "while True:\n",
    "    user_input = input(\"You: \")\n",
    "    if user_input.lower() in [\"exit\", \"bye\"]:\n",
    "        print(\"Take care! Your assistant is signing off.\")\n",
    "        break\n",
    "\n",
    "    ai_reply = chat_with_ai(user_input, messages)\n",
    "    print(\"AI:\", ai_reply)"
   ]
  },
  {
   "cell_type": "code",
   "execution_count": null,
   "id": "11795cff-a74b-4825-84a3-1d5377b87602",
   "metadata": {},
   "outputs": [],
   "source": []
  }
 ],
 "metadata": {
  "kernelspec": {
   "display_name": "newkernel",
   "language": "python",
   "name": "newkernel"
  },
  "language_info": {
   "codemirror_mode": {
    "name": "ipython",
    "version": 3
   },
   "file_extension": ".py",
   "mimetype": "text/x-python",
   "name": "python",
   "nbconvert_exporter": "python",
   "pygments_lexer": "ipython3",
   "version": "3.12.5"
  }
 },
 "nbformat": 4,
 "nbformat_minor": 5
}
