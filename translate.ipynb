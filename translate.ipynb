{
 "cells": [
  {
   "cell_type": "code",
   "execution_count": 1,
   "id": "3fccd60d-d5cc-4f01-9f1a-7701410c61c0",
   "metadata": {},
   "outputs": [],
   "source": [
    "import openai\n",
    "from openai import OpenAI #OpenAI --create a client object to communicate with OpenAI's API in the newer SDK\n",
    "import os\n",
    "import json\n",
    "from dotenv import load_dotenv"
   ]
  },
  {
   "cell_type": "code",
   "execution_count": 2,
   "id": "bb05eed4-1592-48ce-b0e5-01d94a5f142f",
   "metadata": {},
   "outputs": [],
   "source": [
    "# Load .env and API key\n",
    "load_dotenv(\"env\")\n",
    "api_key = os.getenv(\"OPENAI_API_KEY\")"
   ]
  },
  {
   "cell_type": "code",
   "execution_count": 3,
   "id": "f54efbcc-bf18-4798-84b9-8b5effc755d9",
   "metadata": {},
   "outputs": [],
   "source": [
    "# Initialize OpenAI client (✅ REQUIRED in new SDK)\n",
    "client = OpenAI(api_key=api_key)"
   ]
  },
  {
   "cell_type": "code",
   "execution_count": 4,
   "id": "db52aa3d-0771-4b58-9c66-af795943f607",
   "metadata": {},
   "outputs": [],
   "source": [
    "def translate(text, target_language=\"Hindi\"):\n",
    "    response = client.chat.completions.create(\n",
    "        model=\"gpt-3.5-turbo\",\n",
    "        messages=[\n",
    "            {\"role\": \"user\", \"content\": f\"Translate this to {target_language}:\\n{text}\"}\n",
    "        ]\n",
    "    )\n",
    "    return response.choices[0].message.content\n"
   ]
  },
  {
   "cell_type": "code",
   "execution_count": 5,
   "id": "3f0e9cf4-0c9f-4040-95fe-0d1c5eb3189b",
   "metadata": {},
   "outputs": [
    {
     "name": "stdin",
     "output_type": "stream",
     "text": [
      "Enter the text you want to translate:\n",
      " my name is nidhi\n",
      "Enter the target language (e.g., Hindi, French, Spanish):\n",
      " hindi\n"
     ]
    },
    {
     "name": "stdout",
     "output_type": "stream",
     "text": [
      "\n",
      "Translation: मेरा नाम निधि है।\n"
     ]
    }
   ],
   "source": [
    "# Ask the user for the text they want to translate\n",
    "text_to_translate = input(\"Enter the text you want to translate:\\n\")\n",
    "\n",
    "# Ask the user for the target language (default: Hindi)\n",
    "target_lang = input(\"Enter the target language (e.g., Hindi, French, Spanish):\\n\")\n",
    "\n",
    "# Call the translate function with user's input\n",
    "translation = translate(text_to_translate, target_language=target_lang)\n",
    "\n",
    "# Print the translated text\n",
    "print(\"\\nTranslation:\", translation)"
   ]
  },
  {
   "cell_type": "code",
   "execution_count": null,
   "id": "b06575a3-c2fe-4f1f-a2cb-9ba8ee12aeb1",
   "metadata": {},
   "outputs": [],
   "source": []
  }
 ],
 "metadata": {
  "kernelspec": {
   "display_name": "Python 3 (ipykernel)",
   "language": "python",
   "name": "python3"
  },
  "language_info": {
   "codemirror_mode": {
    "name": "ipython",
    "version": 3
   },
   "file_extension": ".py",
   "mimetype": "text/x-python",
   "name": "python",
   "nbconvert_exporter": "python",
   "pygments_lexer": "ipython3",
   "version": "3.12.5"
  }
 },
 "nbformat": 4,
 "nbformat_minor": 5
}
